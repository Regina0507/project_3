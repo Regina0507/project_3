{
 "cells": [
  {
   "cell_type": "code",
   "execution_count": null,
   "metadata": {},
   "outputs": [],
   "source": [
    "# prime_rate = quandl.get(\"FRED/EWNQ\", authtoken = api_key)\n",
    "# prime_rate.tail()"
   ]
  },
  {
   "cell_type": "code",
   "execution_count": null,
   "metadata": {},
   "outputs": [],
   "source": [
    "# soybean prices"
   ]
  },
  {
   "cell_type": "code",
   "execution_count": null,
   "metadata": {},
   "outputs": [],
   "source": [
    "# DESCRIPTION\n",
    "# Cash price of soybeans including basis to front month futures contract. \n",
    "# Data compiled by Top Flight Grain Cooperative."
   ]
  },
  {
   "cell_type": "code",
   "execution_count": null,
   "metadata": {},
   "outputs": [],
   "source": [
    "# soybean_prices = quandl.get(\"TFGRAIN/SOYBEANS\", authtoken= api_key )\n",
    "# soybean_prices.head()"
   ]
  },
  {
   "cell_type": "code",
   "execution_count": null,
   "metadata": {},
   "outputs": [],
   "source": [
    "# corn prices"
   ]
  },
  {
   "cell_type": "code",
   "execution_count": null,
   "metadata": {},
   "outputs": [],
   "source": [
    "# DESCRIPTION \n",
    "# Cash price of corn including basis to front month futures contract.\n",
    "# Data compiled by Top Flight Grain Cooperative."
   ]
  },
  {
   "cell_type": "code",
   "execution_count": null,
   "metadata": {},
   "outputs": [],
   "source": [
    "# corn_price = quandl.get(\"TFGRAIN/CORN\", authtoken= api_key )\n",
    "# corn_price"
   ]
  },
  {
   "cell_type": "code",
   "execution_count": null,
   "metadata": {},
   "outputs": [],
   "source": [
    "# DESCRIPTION\n",
    "# This data represents the value of a basket of commodities consumed in the global economy, \n",
    "# ranging from agricultural to energy to metals products. The value of this basket is tracked\n",
    "# via futures contracts on exchange-traded physical commodities, comprised of 37 commodities \n",
    "# futures contracts, quoted in four different currencies,\n",
    "# listed on nine exchanges in four countries."
   ]
  },
  {
   "cell_type": "code",
   "execution_count": null,
   "metadata": {},
   "outputs": [],
   "source": [
    "# commodity_index = quandl.get(\"RICI/RICI\", authtoken=api_key)\n",
    "# commodity_index"
   ]
  },
  {
   "cell_type": "code",
   "execution_count": null,
   "metadata": {},
   "outputs": [],
   "source": [
    "# DESCRIPTION\n",
    "# The Investor Behavior Project at Yale University, under the direction of \n",
    "# Dr. Robert Shiller since its beginning and now under the auspices of the Yale\n",
    "# International Center for Finance, has been collecting questionnaire survey data\n",
    "# on the behavior of US investors since 1984. Among the studies that this project\n",
    "# has produced was a major study of investor thinking on the day of the stock market crash of\n",
    "# 1987. As part of this project, regular questionnaire investor attitude surveys have been done\n",
    "# continuously since 1989. The following reports on some stock market confidence indexes derived\n",
    "# from this survey data. These indexes have a span of nearly twelve years, and thus are the\n",
    "# longest-running effort to measure investor confidence and \n",
    "# related investor attitudes."
   ]
  },
  {
   "cell_type": "code",
   "execution_count": null,
   "metadata": {},
   "outputs": [],
   "source": [
    "# stock_market_confi = quandl.get(\"YALE/US_CONF_INDEX_VAL_INST\", authtoken=api_key)\n",
    "# stock_market_confi"
   ]
  },
  {
   "cell_type": "code",
   "execution_count": null,
   "metadata": {},
   "outputs": [],
   "source": []
  },
  {
   "cell_type": "code",
   "execution_count": null,
   "metadata": {},
   "outputs": [],
   "source": []
  },
  {
   "cell_type": "code",
   "execution_count": null,
   "metadata": {},
   "outputs": [],
   "source": []
  }
 ],
 "metadata": {
  "kernelspec": {
   "display_name": "Python 3",
   "language": "python",
   "name": "python3"
  },
  "language_info": {
   "codemirror_mode": {
    "name": "ipython",
    "version": 3
   },
   "file_extension": ".py",
   "mimetype": "text/x-python",
   "name": "python",
   "nbconvert_exporter": "python",
   "pygments_lexer": "ipython3",
   "version": "3.8.3"
  }
 },
 "nbformat": 4,
 "nbformat_minor": 4
}
