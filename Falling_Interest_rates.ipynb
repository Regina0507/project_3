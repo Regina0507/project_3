{
 "cells": [
  {
   "cell_type": "code",
   "execution_count": 1,
   "metadata": {},
   "outputs": [],
   "source": [
    "#pip install quandl"
   ]
  },
  {
   "cell_type": "code",
   "execution_count": 2,
   "metadata": {},
   "outputs": [],
   "source": [
    "# Dependencies\n",
    "import quandl\n",
    "import numpy as np\n",
    "import pandas as pd\n",
    "import matplotlib.pyplot as plt\n",
    "%matplotlib inline\n",
    "from config import API_key\n",
    "\n",
    "import pymysql\n",
    "pymysql.install_as_MySQLdb()\n",
    "from sqlalchemy import create_engine"
   ]
  },
  {
   "cell_type": "markdown",
   "metadata": {},
   "source": [
    "# PRIME RATE\n",
    "The prime rate is a guiding interest rate that lenders reference when they set interest rates for consumers on things like credit cards, loans or mortgages. The current prime rate is 3.25%.\n",
    "\n",
    "Average Reported Prime Rate,Weighted by the Amount Loans Priced Relative to Prime, by Base Pricing Rate"
   ]
  },
  {
   "cell_type": "code",
   "execution_count": 3,
   "metadata": {},
   "outputs": [
    {
     "data": {
      "text/html": [
       "<div>\n",
       "<style scoped>\n",
       "    .dataframe tbody tr th:only-of-type {\n",
       "        vertical-align: middle;\n",
       "    }\n",
       "\n",
       "    .dataframe tbody tr th {\n",
       "        vertical-align: top;\n",
       "    }\n",
       "\n",
       "    .dataframe thead th {\n",
       "        text-align: right;\n",
       "    }\n",
       "</style>\n",
       "<table border=\"1\" class=\"dataframe\">\n",
       "  <thead>\n",
       "    <tr style=\"text-align: right;\">\n",
       "      <th></th>\n",
       "      <th>Date</th>\n",
       "      <th>MPRIME</th>\n",
       "    </tr>\n",
       "  </thead>\n",
       "  <tbody>\n",
       "    <tr>\n",
       "      <th>0</th>\n",
       "      <td>1949-01-01</td>\n",
       "      <td>2.0</td>\n",
       "    </tr>\n",
       "    <tr>\n",
       "      <th>1</th>\n",
       "      <td>1949-01-02</td>\n",
       "      <td>2.0</td>\n",
       "    </tr>\n",
       "    <tr>\n",
       "      <th>2</th>\n",
       "      <td>1949-03-01</td>\n",
       "      <td>2.0</td>\n",
       "    </tr>\n",
       "    <tr>\n",
       "      <th>3</th>\n",
       "      <td>1949-04-01</td>\n",
       "      <td>2.0</td>\n",
       "    </tr>\n",
       "    <tr>\n",
       "      <th>4</th>\n",
       "      <td>1949-05-01</td>\n",
       "      <td>2.0</td>\n",
       "    </tr>\n",
       "  </tbody>\n",
       "</table>\n",
       "</div>"
      ],
      "text/plain": [
       "         Date  MPRIME\n",
       "0  1949-01-01     2.0\n",
       "1  1949-01-02     2.0\n",
       "2  1949-03-01     2.0\n",
       "3  1949-04-01     2.0\n",
       "4  1949-05-01     2.0"
      ]
     },
     "execution_count": 3,
     "metadata": {},
     "output_type": "execute_result"
    }
   ],
   "source": [
    "prime_rate = pd.read_csv(\"../project_3/static/data/MPRIME.csv\")\n",
    "prime_rate.head()"
   ]
  },
  {
   "cell_type": "code",
   "execution_count": 4,
   "metadata": {},
   "outputs": [],
   "source": [
    "# change datatype of date column to datetime\n",
    "prime_rate['Date'] = pd.to_datetime(prime_rate['Date'])"
   ]
  },
  {
   "cell_type": "code",
   "execution_count": 5,
   "metadata": {},
   "outputs": [
    {
     "data": {
      "text/html": [
       "<div>\n",
       "<style scoped>\n",
       "    .dataframe tbody tr th:only-of-type {\n",
       "        vertical-align: middle;\n",
       "    }\n",
       "\n",
       "    .dataframe tbody tr th {\n",
       "        vertical-align: top;\n",
       "    }\n",
       "\n",
       "    .dataframe thead th {\n",
       "        text-align: right;\n",
       "    }\n",
       "</style>\n",
       "<table border=\"1\" class=\"dataframe\">\n",
       "  <thead>\n",
       "    <tr style=\"text-align: right;\">\n",
       "      <th></th>\n",
       "      <th>Date</th>\n",
       "      <th>MPRIME</th>\n",
       "    </tr>\n",
       "  </thead>\n",
       "  <tbody>\n",
       "    <tr>\n",
       "      <th>684</th>\n",
       "      <td>2006-01-01</td>\n",
       "      <td>7.26</td>\n",
       "    </tr>\n",
       "    <tr>\n",
       "      <th>685</th>\n",
       "      <td>2006-02-01</td>\n",
       "      <td>7.50</td>\n",
       "    </tr>\n",
       "    <tr>\n",
       "      <th>686</th>\n",
       "      <td>2006-03-01</td>\n",
       "      <td>7.53</td>\n",
       "    </tr>\n",
       "    <tr>\n",
       "      <th>687</th>\n",
       "      <td>2006-04-01</td>\n",
       "      <td>7.75</td>\n",
       "    </tr>\n",
       "    <tr>\n",
       "      <th>688</th>\n",
       "      <td>2006-05-01</td>\n",
       "      <td>7.93</td>\n",
       "    </tr>\n",
       "  </tbody>\n",
       "</table>\n",
       "</div>"
      ],
      "text/plain": [
       "          Date  MPRIME\n",
       "684 2006-01-01    7.26\n",
       "685 2006-02-01    7.50\n",
       "686 2006-03-01    7.53\n",
       "687 2006-04-01    7.75\n",
       "688 2006-05-01    7.93"
      ]
     },
     "execution_count": 5,
     "metadata": {},
     "output_type": "execute_result"
    }
   ],
   "source": [
    "# Filter data for 15 years\n",
    "filtered_prime_rate = prime_rate.loc[(prime_rate['Date'] >= '2006-01-01') ]\n",
    "                     \n",
    "filtered_prime_rate.head()"
   ]
  },
  {
   "cell_type": "code",
   "execution_count": 6,
   "metadata": {},
   "outputs": [
    {
     "data": {
      "text/html": [
       "<div>\n",
       "<style scoped>\n",
       "    .dataframe tbody tr th:only-of-type {\n",
       "        vertical-align: middle;\n",
       "    }\n",
       "\n",
       "    .dataframe tbody tr th {\n",
       "        vertical-align: top;\n",
       "    }\n",
       "\n",
       "    .dataframe thead th {\n",
       "        text-align: right;\n",
       "    }\n",
       "</style>\n",
       "<table border=\"1\" class=\"dataframe\">\n",
       "  <thead>\n",
       "    <tr style=\"text-align: right;\">\n",
       "      <th></th>\n",
       "      <th>MPRIME</th>\n",
       "    </tr>\n",
       "    <tr>\n",
       "      <th>Date</th>\n",
       "      <th></th>\n",
       "    </tr>\n",
       "  </thead>\n",
       "  <tbody>\n",
       "    <tr>\n",
       "      <th>2020-09-01</th>\n",
       "      <td>3.25</td>\n",
       "    </tr>\n",
       "    <tr>\n",
       "      <th>2020-10-01</th>\n",
       "      <td>3.25</td>\n",
       "    </tr>\n",
       "    <tr>\n",
       "      <th>2020-11-01</th>\n",
       "      <td>3.25</td>\n",
       "    </tr>\n",
       "    <tr>\n",
       "      <th>2020-12-01</th>\n",
       "      <td>3.25</td>\n",
       "    </tr>\n",
       "    <tr>\n",
       "      <th>2021-01-01</th>\n",
       "      <td>3.25</td>\n",
       "    </tr>\n",
       "  </tbody>\n",
       "</table>\n",
       "</div>"
      ],
      "text/plain": [
       "            MPRIME\n",
       "Date              \n",
       "2020-09-01    3.25\n",
       "2020-10-01    3.25\n",
       "2020-11-01    3.25\n",
       "2020-12-01    3.25\n",
       "2021-01-01    3.25"
      ]
     },
     "execution_count": 6,
     "metadata": {},
     "output_type": "execute_result"
    }
   ],
   "source": [
    "# SET DATE AS INDEX\n",
    "filtered_prime_rate_df =filtered_prime_rate.set_index('Date')\n",
    "filtered_prime_rate_df.tail()"
   ]
  },
  {
   "cell_type": "markdown",
   "metadata": {},
   "source": [
    "# FREDDIE-MAC's  30-Year Fixed Rate Mortgage Average in the United States"
   ]
  },
  {
   "cell_type": "code",
   "execution_count": 7,
   "metadata": {},
   "outputs": [
    {
     "data": {
      "text/html": [
       "<div>\n",
       "<style scoped>\n",
       "    .dataframe tbody tr th:only-of-type {\n",
       "        vertical-align: middle;\n",
       "    }\n",
       "\n",
       "    .dataframe tbody tr th {\n",
       "        vertical-align: top;\n",
       "    }\n",
       "\n",
       "    .dataframe thead th {\n",
       "        text-align: right;\n",
       "    }\n",
       "</style>\n",
       "<table border=\"1\" class=\"dataframe\">\n",
       "  <thead>\n",
       "    <tr style=\"text-align: right;\">\n",
       "      <th></th>\n",
       "      <th>Value</th>\n",
       "    </tr>\n",
       "    <tr>\n",
       "      <th>Date</th>\n",
       "      <th></th>\n",
       "    </tr>\n",
       "  </thead>\n",
       "  <tbody>\n",
       "    <tr>\n",
       "      <th>2021-02-11</th>\n",
       "      <td>2.73</td>\n",
       "    </tr>\n",
       "    <tr>\n",
       "      <th>2021-02-18</th>\n",
       "      <td>2.81</td>\n",
       "    </tr>\n",
       "    <tr>\n",
       "      <th>2021-02-25</th>\n",
       "      <td>2.97</td>\n",
       "    </tr>\n",
       "    <tr>\n",
       "      <th>2021-03-04</th>\n",
       "      <td>3.02</td>\n",
       "    </tr>\n",
       "    <tr>\n",
       "      <th>2021-03-11</th>\n",
       "      <td>3.05</td>\n",
       "    </tr>\n",
       "  </tbody>\n",
       "</table>\n",
       "</div>"
      ],
      "text/plain": [
       "            Value\n",
       "Date             \n",
       "2021-02-11   2.73\n",
       "2021-02-18   2.81\n",
       "2021-02-25   2.97\n",
       "2021-03-04   3.02\n",
       "2021-03-11   3.05"
      ]
     },
     "execution_count": 7,
     "metadata": {},
     "output_type": "execute_result"
    }
   ],
   "source": [
    "# FREDDIE-MAC's 30-Year Fixed Rate Mortgage Average in the United States\n",
    "home_mortgage_avg_rate_30 = quandl.get(\"FMAC/30US\", authtoken=API_key)\n",
    "home_mortgage_avg_rate_30.tail()"
   ]
  },
  {
   "cell_type": "code",
   "execution_count": 8,
   "metadata": {},
   "outputs": [
    {
     "data": {
      "text/html": [
       "<div>\n",
       "<style scoped>\n",
       "    .dataframe tbody tr th:only-of-type {\n",
       "        vertical-align: middle;\n",
       "    }\n",
       "\n",
       "    .dataframe tbody tr th {\n",
       "        vertical-align: top;\n",
       "    }\n",
       "\n",
       "    .dataframe thead th {\n",
       "        text-align: right;\n",
       "    }\n",
       "</style>\n",
       "<table border=\"1\" class=\"dataframe\">\n",
       "  <thead>\n",
       "    <tr style=\"text-align: right;\">\n",
       "      <th></th>\n",
       "      <th>Date</th>\n",
       "      <th>Value</th>\n",
       "    </tr>\n",
       "  </thead>\n",
       "  <tbody>\n",
       "    <tr>\n",
       "      <th>2604</th>\n",
       "      <td>2021-02-11</td>\n",
       "      <td>2.73</td>\n",
       "    </tr>\n",
       "    <tr>\n",
       "      <th>2605</th>\n",
       "      <td>2021-02-18</td>\n",
       "      <td>2.81</td>\n",
       "    </tr>\n",
       "    <tr>\n",
       "      <th>2606</th>\n",
       "      <td>2021-02-25</td>\n",
       "      <td>2.97</td>\n",
       "    </tr>\n",
       "    <tr>\n",
       "      <th>2607</th>\n",
       "      <td>2021-03-04</td>\n",
       "      <td>3.02</td>\n",
       "    </tr>\n",
       "    <tr>\n",
       "      <th>2608</th>\n",
       "      <td>2021-03-11</td>\n",
       "      <td>3.05</td>\n",
       "    </tr>\n",
       "  </tbody>\n",
       "</table>\n",
       "</div>"
      ],
      "text/plain": [
       "           Date  Value\n",
       "2604 2021-02-11   2.73\n",
       "2605 2021-02-18   2.81\n",
       "2606 2021-02-25   2.97\n",
       "2607 2021-03-04   3.02\n",
       "2608 2021-03-11   3.05"
      ]
     },
     "execution_count": 8,
     "metadata": {},
     "output_type": "execute_result"
    }
   ],
   "source": [
    "home_mortgage_avg_rate_30 = home_mortgage_avg_rate_30.reset_index()\n",
    "home_mortgage_avg_rate_30.tail()"
   ]
  },
  {
   "cell_type": "code",
   "execution_count": 9,
   "metadata": {},
   "outputs": [
    {
     "data": {
      "text/html": [
       "<div>\n",
       "<style scoped>\n",
       "    .dataframe tbody tr th:only-of-type {\n",
       "        vertical-align: middle;\n",
       "    }\n",
       "\n",
       "    .dataframe tbody tr th {\n",
       "        vertical-align: top;\n",
       "    }\n",
       "\n",
       "    .dataframe thead th {\n",
       "        text-align: right;\n",
       "    }\n",
       "</style>\n",
       "<table border=\"1\" class=\"dataframe\">\n",
       "  <thead>\n",
       "    <tr style=\"text-align: right;\">\n",
       "      <th></th>\n",
       "      <th>Date</th>\n",
       "      <th>Value</th>\n",
       "    </tr>\n",
       "  </thead>\n",
       "  <tbody>\n",
       "    <tr>\n",
       "      <th>1814</th>\n",
       "      <td>2006-01-05</td>\n",
       "      <td>6.21</td>\n",
       "    </tr>\n",
       "    <tr>\n",
       "      <th>1815</th>\n",
       "      <td>2006-01-12</td>\n",
       "      <td>6.15</td>\n",
       "    </tr>\n",
       "    <tr>\n",
       "      <th>1816</th>\n",
       "      <td>2006-01-19</td>\n",
       "      <td>6.10</td>\n",
       "    </tr>\n",
       "    <tr>\n",
       "      <th>1817</th>\n",
       "      <td>2006-01-26</td>\n",
       "      <td>6.12</td>\n",
       "    </tr>\n",
       "    <tr>\n",
       "      <th>1818</th>\n",
       "      <td>2006-02-02</td>\n",
       "      <td>6.23</td>\n",
       "    </tr>\n",
       "  </tbody>\n",
       "</table>\n",
       "</div>"
      ],
      "text/plain": [
       "           Date  Value\n",
       "1814 2006-01-05   6.21\n",
       "1815 2006-01-12   6.15\n",
       "1816 2006-01-19   6.10\n",
       "1817 2006-01-26   6.12\n",
       "1818 2006-02-02   6.23"
      ]
     },
     "execution_count": 9,
     "metadata": {},
     "output_type": "execute_result"
    }
   ],
   "source": [
    "home_mortgage_avg_rate_30_filter = home_mortgage_avg_rate_30.loc[(home_mortgage_avg_rate_30['Date'] >= '2006-01-01') ]\n",
    "home_mortgage_avg_rate_30_filter.head()"
   ]
  },
  {
   "cell_type": "code",
   "execution_count": 10,
   "metadata": {},
   "outputs": [
    {
     "data": {
      "text/html": [
       "<div>\n",
       "<style scoped>\n",
       "    .dataframe tbody tr th:only-of-type {\n",
       "        vertical-align: middle;\n",
       "    }\n",
       "\n",
       "    .dataframe tbody tr th {\n",
       "        vertical-align: top;\n",
       "    }\n",
       "\n",
       "    .dataframe thead th {\n",
       "        text-align: right;\n",
       "    }\n",
       "</style>\n",
       "<table border=\"1\" class=\"dataframe\">\n",
       "  <thead>\n",
       "    <tr style=\"text-align: right;\">\n",
       "      <th></th>\n",
       "      <th>Value</th>\n",
       "    </tr>\n",
       "    <tr>\n",
       "      <th>Date</th>\n",
       "      <th></th>\n",
       "    </tr>\n",
       "  </thead>\n",
       "  <tbody>\n",
       "    <tr>\n",
       "      <th>2021-02-11</th>\n",
       "      <td>2.73</td>\n",
       "    </tr>\n",
       "    <tr>\n",
       "      <th>2021-02-18</th>\n",
       "      <td>2.81</td>\n",
       "    </tr>\n",
       "    <tr>\n",
       "      <th>2021-02-25</th>\n",
       "      <td>2.97</td>\n",
       "    </tr>\n",
       "    <tr>\n",
       "      <th>2021-03-04</th>\n",
       "      <td>3.02</td>\n",
       "    </tr>\n",
       "    <tr>\n",
       "      <th>2021-03-11</th>\n",
       "      <td>3.05</td>\n",
       "    </tr>\n",
       "  </tbody>\n",
       "</table>\n",
       "</div>"
      ],
      "text/plain": [
       "            Value\n",
       "Date             \n",
       "2021-02-11   2.73\n",
       "2021-02-18   2.81\n",
       "2021-02-25   2.97\n",
       "2021-03-04   3.02\n",
       "2021-03-11   3.05"
      ]
     },
     "execution_count": 10,
     "metadata": {},
     "output_type": "execute_result"
    }
   ],
   "source": [
    "home_mortgage_avg_rate_30_filter = home_mortgage_avg_rate_30_filter.set_index('Date')\n",
    "home_mortgage_avg_rate_30_filter.tail()"
   ]
  },
  {
   "cell_type": "markdown",
   "metadata": {},
   "source": [
    "# 15-Year Fixed Rate Mortgage Average in the United States"
   ]
  },
  {
   "cell_type": "code",
   "execution_count": 11,
   "metadata": {},
   "outputs": [
    {
     "data": {
      "text/html": [
       "<div>\n",
       "<style scoped>\n",
       "    .dataframe tbody tr th:only-of-type {\n",
       "        vertical-align: middle;\n",
       "    }\n",
       "\n",
       "    .dataframe tbody tr th {\n",
       "        vertical-align: top;\n",
       "    }\n",
       "\n",
       "    .dataframe thead th {\n",
       "        text-align: right;\n",
       "    }\n",
       "</style>\n",
       "<table border=\"1\" class=\"dataframe\">\n",
       "  <thead>\n",
       "    <tr style=\"text-align: right;\">\n",
       "      <th></th>\n",
       "      <th>Value</th>\n",
       "    </tr>\n",
       "    <tr>\n",
       "      <th>Date</th>\n",
       "      <th></th>\n",
       "    </tr>\n",
       "  </thead>\n",
       "  <tbody>\n",
       "    <tr>\n",
       "      <th>2021-02-11</th>\n",
       "      <td>2.19</td>\n",
       "    </tr>\n",
       "    <tr>\n",
       "      <th>2021-02-18</th>\n",
       "      <td>2.21</td>\n",
       "    </tr>\n",
       "    <tr>\n",
       "      <th>2021-02-25</th>\n",
       "      <td>2.34</td>\n",
       "    </tr>\n",
       "    <tr>\n",
       "      <th>2021-03-04</th>\n",
       "      <td>2.34</td>\n",
       "    </tr>\n",
       "    <tr>\n",
       "      <th>2021-03-11</th>\n",
       "      <td>2.38</td>\n",
       "    </tr>\n",
       "  </tbody>\n",
       "</table>\n",
       "</div>"
      ],
      "text/plain": [
       "            Value\n",
       "Date             \n",
       "2021-02-11   2.19\n",
       "2021-02-18   2.21\n",
       "2021-02-25   2.34\n",
       "2021-03-04   2.34\n",
       "2021-03-11   2.38"
      ]
     },
     "execution_count": 11,
     "metadata": {},
     "output_type": "execute_result"
    }
   ],
   "source": [
    "home_mortgage_avg_rate_15 = quandl.get(\"FMAC/15US\", authtoken=API_key)\n",
    "home_mortgage_avg_rate_15.tail()"
   ]
  },
  {
   "cell_type": "code",
   "execution_count": 12,
   "metadata": {},
   "outputs": [
    {
     "data": {
      "text/html": [
       "<div>\n",
       "<style scoped>\n",
       "    .dataframe tbody tr th:only-of-type {\n",
       "        vertical-align: middle;\n",
       "    }\n",
       "\n",
       "    .dataframe tbody tr th {\n",
       "        vertical-align: top;\n",
       "    }\n",
       "\n",
       "    .dataframe thead th {\n",
       "        text-align: right;\n",
       "    }\n",
       "</style>\n",
       "<table border=\"1\" class=\"dataframe\">\n",
       "  <thead>\n",
       "    <tr style=\"text-align: right;\">\n",
       "      <th></th>\n",
       "      <th>Date</th>\n",
       "      <th>Value</th>\n",
       "    </tr>\n",
       "  </thead>\n",
       "  <tbody>\n",
       "    <tr>\n",
       "      <th>1539</th>\n",
       "      <td>2021-02-11</td>\n",
       "      <td>2.19</td>\n",
       "    </tr>\n",
       "    <tr>\n",
       "      <th>1540</th>\n",
       "      <td>2021-02-18</td>\n",
       "      <td>2.21</td>\n",
       "    </tr>\n",
       "    <tr>\n",
       "      <th>1541</th>\n",
       "      <td>2021-02-25</td>\n",
       "      <td>2.34</td>\n",
       "    </tr>\n",
       "    <tr>\n",
       "      <th>1542</th>\n",
       "      <td>2021-03-04</td>\n",
       "      <td>2.34</td>\n",
       "    </tr>\n",
       "    <tr>\n",
       "      <th>1543</th>\n",
       "      <td>2021-03-11</td>\n",
       "      <td>2.38</td>\n",
       "    </tr>\n",
       "  </tbody>\n",
       "</table>\n",
       "</div>"
      ],
      "text/plain": [
       "           Date  Value\n",
       "1539 2021-02-11   2.19\n",
       "1540 2021-02-18   2.21\n",
       "1541 2021-02-25   2.34\n",
       "1542 2021-03-04   2.34\n",
       "1543 2021-03-11   2.38"
      ]
     },
     "execution_count": 12,
     "metadata": {},
     "output_type": "execute_result"
    }
   ],
   "source": [
    "home_mortgage_avg_rate_15 = home_mortgage_avg_rate_15.reset_index()\n",
    "home_mortgage_avg_rate_15.tail()"
   ]
  },
  {
   "cell_type": "code",
   "execution_count": 13,
   "metadata": {},
   "outputs": [
    {
     "data": {
      "text/html": [
       "<div>\n",
       "<style scoped>\n",
       "    .dataframe tbody tr th:only-of-type {\n",
       "        vertical-align: middle;\n",
       "    }\n",
       "\n",
       "    .dataframe tbody tr th {\n",
       "        vertical-align: top;\n",
       "    }\n",
       "\n",
       "    .dataframe thead th {\n",
       "        text-align: right;\n",
       "    }\n",
       "</style>\n",
       "<table border=\"1\" class=\"dataframe\">\n",
       "  <thead>\n",
       "    <tr style=\"text-align: right;\">\n",
       "      <th></th>\n",
       "      <th>Date</th>\n",
       "      <th>Value</th>\n",
       "    </tr>\n",
       "  </thead>\n",
       "  <tbody>\n",
       "    <tr>\n",
       "      <th>1539</th>\n",
       "      <td>2021-02-11</td>\n",
       "      <td>2.19</td>\n",
       "    </tr>\n",
       "    <tr>\n",
       "      <th>1540</th>\n",
       "      <td>2021-02-18</td>\n",
       "      <td>2.21</td>\n",
       "    </tr>\n",
       "    <tr>\n",
       "      <th>1541</th>\n",
       "      <td>2021-02-25</td>\n",
       "      <td>2.34</td>\n",
       "    </tr>\n",
       "    <tr>\n",
       "      <th>1542</th>\n",
       "      <td>2021-03-04</td>\n",
       "      <td>2.34</td>\n",
       "    </tr>\n",
       "    <tr>\n",
       "      <th>1543</th>\n",
       "      <td>2021-03-11</td>\n",
       "      <td>2.38</td>\n",
       "    </tr>\n",
       "  </tbody>\n",
       "</table>\n",
       "</div>"
      ],
      "text/plain": [
       "           Date  Value\n",
       "1539 2021-02-11   2.19\n",
       "1540 2021-02-18   2.21\n",
       "1541 2021-02-25   2.34\n",
       "1542 2021-03-04   2.34\n",
       "1543 2021-03-11   2.38"
      ]
     },
     "execution_count": 13,
     "metadata": {},
     "output_type": "execute_result"
    }
   ],
   "source": [
    "home_mortgage_avg_rate_15_filter = home_mortgage_avg_rate_15.loc[(home_mortgage_avg_rate_15['Date'] >= '2006-01-01') ]\n",
    "                     \n",
    "home_mortgage_avg_rate_15_filter.tail()"
   ]
  },
  {
   "cell_type": "code",
   "execution_count": 14,
   "metadata": {},
   "outputs": [
    {
     "data": {
      "text/html": [
       "<div>\n",
       "<style scoped>\n",
       "    .dataframe tbody tr th:only-of-type {\n",
       "        vertical-align: middle;\n",
       "    }\n",
       "\n",
       "    .dataframe tbody tr th {\n",
       "        vertical-align: top;\n",
       "    }\n",
       "\n",
       "    .dataframe thead th {\n",
       "        text-align: right;\n",
       "    }\n",
       "</style>\n",
       "<table border=\"1\" class=\"dataframe\">\n",
       "  <thead>\n",
       "    <tr style=\"text-align: right;\">\n",
       "      <th></th>\n",
       "      <th>Value</th>\n",
       "    </tr>\n",
       "    <tr>\n",
       "      <th>Date</th>\n",
       "      <th></th>\n",
       "    </tr>\n",
       "  </thead>\n",
       "  <tbody>\n",
       "    <tr>\n",
       "      <th>2021-02-11</th>\n",
       "      <td>2.19</td>\n",
       "    </tr>\n",
       "    <tr>\n",
       "      <th>2021-02-18</th>\n",
       "      <td>2.21</td>\n",
       "    </tr>\n",
       "    <tr>\n",
       "      <th>2021-02-25</th>\n",
       "      <td>2.34</td>\n",
       "    </tr>\n",
       "    <tr>\n",
       "      <th>2021-03-04</th>\n",
       "      <td>2.34</td>\n",
       "    </tr>\n",
       "    <tr>\n",
       "      <th>2021-03-11</th>\n",
       "      <td>2.38</td>\n",
       "    </tr>\n",
       "  </tbody>\n",
       "</table>\n",
       "</div>"
      ],
      "text/plain": [
       "            Value\n",
       "Date             \n",
       "2021-02-11   2.19\n",
       "2021-02-18   2.21\n",
       "2021-02-25   2.34\n",
       "2021-03-04   2.34\n",
       "2021-03-11   2.38"
      ]
     },
     "execution_count": 14,
     "metadata": {},
     "output_type": "execute_result"
    }
   ],
   "source": [
    "home_mortgage_avg_rate_15_filter = home_mortgage_avg_rate_15_filter.set_index('Date')\n",
    "home_mortgage_avg_rate_15_filter.tail()"
   ]
  },
  {
   "cell_type": "code",
   "execution_count": 15,
   "metadata": {},
   "outputs": [
    {
     "data": {
      "image/png": "[encoded data removed]",
      "text/plain": [
       "<Figure size 1152x576 with 1 Axes>"
      ]
     },
     "metadata": {
      "needs_background": "light"
     },
     "output_type": "display_data"
    }
   ],
   "source": [
    "# plot based on opening prices\n",
    "fig,ax = plt.subplots()\n",
    "\n",
    "home_mortgage_avg_rate_30_filter['Value'].plot (label = '30 year avg rate ', figsize = (16,8))\n",
    "home_mortgage_avg_rate_15_filter['Value'].plot (label = '15 year avg rate')\n",
    "#home_mortgage_avg_rate_5_filter['Value'].plot (label = '5 year avg rate')\n",
    "\n",
    "\n",
    "# home_mortgage_refinance_rate_filter['Value'].plot (label = 'refinance rate')\n",
    "filtered_prime_rate_df['MPRIME'].plot( label = 'prime rate')\n",
    "\n",
    "ax.set_ylabel(\"% rate\",fontsize=14)\n",
    "ax.set_title(\"prime rate / mortgage rate\")\n",
    "plt.grid()\n",
    "\n",
    "plt.legend();"
   ]
  },
  {
   "cell_type": "markdown",
   "metadata": {},
   "source": [
    "# 5/1-Year Adjustable Rate Mortgage Average in the United States\n"
   ]
  },
  {
   "cell_type": "code",
   "execution_count": 16,
   "metadata": {},
   "outputs": [
    {
     "data": {
      "text/html": [
       "<div>\n",
       "<style scoped>\n",
       "    .dataframe tbody tr th:only-of-type {\n",
       "        vertical-align: middle;\n",
       "    }\n",
       "\n",
       "    .dataframe tbody tr th {\n",
       "        vertical-align: top;\n",
       "    }\n",
       "\n",
       "    .dataframe thead th {\n",
       "        text-align: right;\n",
       "    }\n",
       "</style>\n",
       "<table border=\"1\" class=\"dataframe\">\n",
       "  <thead>\n",
       "    <tr style=\"text-align: right;\">\n",
       "      <th></th>\n",
       "      <th>Value</th>\n",
       "    </tr>\n",
       "    <tr>\n",
       "      <th>Date</th>\n",
       "      <th></th>\n",
       "    </tr>\n",
       "  </thead>\n",
       "  <tbody>\n",
       "    <tr>\n",
       "      <th>2021-02-11</th>\n",
       "      <td>2.79</td>\n",
       "    </tr>\n",
       "    <tr>\n",
       "      <th>2021-02-18</th>\n",
       "      <td>2.77</td>\n",
       "    </tr>\n",
       "    <tr>\n",
       "      <th>2021-02-25</th>\n",
       "      <td>2.99</td>\n",
       "    </tr>\n",
       "    <tr>\n",
       "      <th>2021-03-04</th>\n",
       "      <td>2.73</td>\n",
       "    </tr>\n",
       "    <tr>\n",
       "      <th>2021-03-11</th>\n",
       "      <td>2.77</td>\n",
       "    </tr>\n",
       "  </tbody>\n",
       "</table>\n",
       "</div>"
      ],
      "text/plain": [
       "            Value\n",
       "Date             \n",
       "2021-02-11   2.79\n",
       "2021-02-18   2.77\n",
       "2021-02-25   2.99\n",
       "2021-03-04   2.73\n",
       "2021-03-11   2.77"
      ]
     },
     "execution_count": 16,
     "metadata": {},
     "output_type": "execute_result"
    }
   ],
   "source": [
    "home_mortgage_avg_rate_5 = quandl.get(\"FMAC/5US\", authtoken=API_key)\n",
    "home_mortgage_avg_rate_5.tail()"
   ]
  },
  {
   "cell_type": "code",
   "execution_count": 17,
   "metadata": {},
   "outputs": [
    {
     "data": {
      "text/html": [
       "<div>\n",
       "<style scoped>\n",
       "    .dataframe tbody tr th:only-of-type {\n",
       "        vertical-align: middle;\n",
       "    }\n",
       "\n",
       "    .dataframe tbody tr th {\n",
       "        vertical-align: top;\n",
       "    }\n",
       "\n",
       "    .dataframe thead th {\n",
       "        text-align: right;\n",
       "    }\n",
       "</style>\n",
       "<table border=\"1\" class=\"dataframe\">\n",
       "  <thead>\n",
       "    <tr style=\"text-align: right;\">\n",
       "      <th></th>\n",
       "      <th>Date</th>\n",
       "      <th>Value</th>\n",
       "    </tr>\n",
       "  </thead>\n",
       "  <tbody>\n",
       "    <tr>\n",
       "      <th>842</th>\n",
       "      <td>2021-02-11</td>\n",
       "      <td>2.79</td>\n",
       "    </tr>\n",
       "    <tr>\n",
       "      <th>843</th>\n",
       "      <td>2021-02-18</td>\n",
       "      <td>2.77</td>\n",
       "    </tr>\n",
       "    <tr>\n",
       "      <th>844</th>\n",
       "      <td>2021-02-25</td>\n",
       "      <td>2.99</td>\n",
       "    </tr>\n",
       "    <tr>\n",
       "      <th>845</th>\n",
       "      <td>2021-03-04</td>\n",
       "      <td>2.73</td>\n",
       "    </tr>\n",
       "    <tr>\n",
       "      <th>846</th>\n",
       "      <td>2021-03-11</td>\n",
       "      <td>2.77</td>\n",
       "    </tr>\n",
       "  </tbody>\n",
       "</table>\n",
       "</div>"
      ],
      "text/plain": [
       "          Date  Value\n",
       "842 2021-02-11   2.79\n",
       "843 2021-02-18   2.77\n",
       "844 2021-02-25   2.99\n",
       "845 2021-03-04   2.73\n",
       "846 2021-03-11   2.77"
      ]
     },
     "execution_count": 17,
     "metadata": {},
     "output_type": "execute_result"
    }
   ],
   "source": [
    "home_mortgage_avg_rate_5 = home_mortgage_avg_rate_5.reset_index()\n",
    "home_mortgage_avg_rate_5.tail()"
   ]
  },
  {
   "cell_type": "code",
   "execution_count": 18,
   "metadata": {},
   "outputs": [
    {
     "data": {
      "text/html": [
       "<div>\n",
       "<style scoped>\n",
       "    .dataframe tbody tr th:only-of-type {\n",
       "        vertical-align: middle;\n",
       "    }\n",
       "\n",
       "    .dataframe tbody tr th {\n",
       "        vertical-align: top;\n",
       "    }\n",
       "\n",
       "    .dataframe thead th {\n",
       "        text-align: right;\n",
       "    }\n",
       "</style>\n",
       "<table border=\"1\" class=\"dataframe\">\n",
       "  <thead>\n",
       "    <tr style=\"text-align: right;\">\n",
       "      <th></th>\n",
       "      <th>Date</th>\n",
       "      <th>Value</th>\n",
       "    </tr>\n",
       "  </thead>\n",
       "  <tbody>\n",
       "    <tr>\n",
       "      <th>842</th>\n",
       "      <td>2021-02-11</td>\n",
       "      <td>2.79</td>\n",
       "    </tr>\n",
       "    <tr>\n",
       "      <th>843</th>\n",
       "      <td>2021-02-18</td>\n",
       "      <td>2.77</td>\n",
       "    </tr>\n",
       "    <tr>\n",
       "      <th>844</th>\n",
       "      <td>2021-02-25</td>\n",
       "      <td>2.99</td>\n",
       "    </tr>\n",
       "    <tr>\n",
       "      <th>845</th>\n",
       "      <td>2021-03-04</td>\n",
       "      <td>2.73</td>\n",
       "    </tr>\n",
       "    <tr>\n",
       "      <th>846</th>\n",
       "      <td>2021-03-11</td>\n",
       "      <td>2.77</td>\n",
       "    </tr>\n",
       "  </tbody>\n",
       "</table>\n",
       "</div>"
      ],
      "text/plain": [
       "          Date  Value\n",
       "842 2021-02-11   2.79\n",
       "843 2021-02-18   2.77\n",
       "844 2021-02-25   2.99\n",
       "845 2021-03-04   2.73\n",
       "846 2021-03-11   2.77"
      ]
     },
     "execution_count": 18,
     "metadata": {},
     "output_type": "execute_result"
    }
   ],
   "source": [
    "home_mortgage_avg_rate_5_filter = home_mortgage_avg_rate_5.loc[(home_mortgage_avg_rate_5['Date'] >= '2016-01-01') ]\n",
    "home_mortgage_avg_rate_5_filter.tail()"
   ]
  },
  {
   "cell_type": "code",
   "execution_count": 19,
   "metadata": {},
   "outputs": [
    {
     "data": {
      "text/html": [
       "<div>\n",
       "<style scoped>\n",
       "    .dataframe tbody tr th:only-of-type {\n",
       "        vertical-align: middle;\n",
       "    }\n",
       "\n",
       "    .dataframe tbody tr th {\n",
       "        vertical-align: top;\n",
       "    }\n",
       "\n",
       "    .dataframe thead th {\n",
       "        text-align: right;\n",
       "    }\n",
       "</style>\n",
       "<table border=\"1\" class=\"dataframe\">\n",
       "  <thead>\n",
       "    <tr style=\"text-align: right;\">\n",
       "      <th></th>\n",
       "      <th>Value</th>\n",
       "    </tr>\n",
       "    <tr>\n",
       "      <th>Date</th>\n",
       "      <th></th>\n",
       "    </tr>\n",
       "  </thead>\n",
       "  <tbody>\n",
       "    <tr>\n",
       "      <th>2021-02-11</th>\n",
       "      <td>2.79</td>\n",
       "    </tr>\n",
       "    <tr>\n",
       "      <th>2021-02-18</th>\n",
       "      <td>2.77</td>\n",
       "    </tr>\n",
       "    <tr>\n",
       "      <th>2021-02-25</th>\n",
       "      <td>2.99</td>\n",
       "    </tr>\n",
       "    <tr>\n",
       "      <th>2021-03-04</th>\n",
       "      <td>2.73</td>\n",
       "    </tr>\n",
       "    <tr>\n",
       "      <th>2021-03-11</th>\n",
       "      <td>2.77</td>\n",
       "    </tr>\n",
       "  </tbody>\n",
       "</table>\n",
       "</div>"
      ],
      "text/plain": [
       "            Value\n",
       "Date             \n",
       "2021-02-11   2.79\n",
       "2021-02-18   2.77\n",
       "2021-02-25   2.99\n",
       "2021-03-04   2.73\n",
       "2021-03-11   2.77"
      ]
     },
     "execution_count": 19,
     "metadata": {},
     "output_type": "execute_result"
    }
   ],
   "source": [
    "home_mortgage_avg_rate_5_filter = home_mortgage_avg_rate_5_filter.set_index('Date')\n",
    "home_mortgage_avg_rate_5_filter.tail()"
   ]
  },
  {
   "cell_type": "code",
   "execution_count": 20,
   "metadata": {},
   "outputs": [
    {
     "data": {
      "text/html": [
       "<div>\n",
       "<style scoped>\n",
       "    .dataframe tbody tr th:only-of-type {\n",
       "        vertical-align: middle;\n",
       "    }\n",
       "\n",
       "    .dataframe tbody tr th {\n",
       "        vertical-align: top;\n",
       "    }\n",
       "\n",
       "    .dataframe thead th {\n",
       "        text-align: right;\n",
       "    }\n",
       "</style>\n",
       "<table border=\"1\" class=\"dataframe\">\n",
       "  <thead>\n",
       "    <tr style=\"text-align: right;\">\n",
       "      <th></th>\n",
       "      <th>Value</th>\n",
       "    </tr>\n",
       "    <tr>\n",
       "      <th>Date</th>\n",
       "      <th></th>\n",
       "    </tr>\n",
       "  </thead>\n",
       "  <tbody>\n",
       "    <tr>\n",
       "      <th>2020-08-27</th>\n",
       "      <td>2.92</td>\n",
       "    </tr>\n",
       "    <tr>\n",
       "      <th>2020-08-28</th>\n",
       "      <td>2.93</td>\n",
       "    </tr>\n",
       "    <tr>\n",
       "      <th>2020-08-29</th>\n",
       "      <td>2.93</td>\n",
       "    </tr>\n",
       "    <tr>\n",
       "      <th>2020-08-30</th>\n",
       "      <td>2.93</td>\n",
       "    </tr>\n",
       "    <tr>\n",
       "      <th>2020-08-31</th>\n",
       "      <td>2.92</td>\n",
       "    </tr>\n",
       "  </tbody>\n",
       "</table>\n",
       "</div>"
      ],
      "text/plain": [
       "            Value\n",
       "Date             \n",
       "2020-08-27   2.92\n",
       "2020-08-28   2.93\n",
       "2020-08-29   2.93\n",
       "2020-08-30   2.93\n",
       "2020-08-31   2.92"
      ]
     },
     "execution_count": 20,
     "metadata": {},
     "output_type": "execute_result"
    }
   ],
   "source": [
    "home_mortgage_avg_rate_7 = quandl.get(\"WFC/PR_CON_71ARM_APR\", authtoken=API_key)\n",
    "home_mortgage_avg_rate_7.tail()"
   ]
  },
  {
   "cell_type": "code",
   "execution_count": 21,
   "metadata": {},
   "outputs": [
    {
     "data": {
      "text/html": [
       "<div>\n",
       "<style scoped>\n",
       "    .dataframe tbody tr th:only-of-type {\n",
       "        vertical-align: middle;\n",
       "    }\n",
       "\n",
       "    .dataframe tbody tr th {\n",
       "        vertical-align: top;\n",
       "    }\n",
       "\n",
       "    .dataframe thead th {\n",
       "        text-align: right;\n",
       "    }\n",
       "</style>\n",
       "<table border=\"1\" class=\"dataframe\">\n",
       "  <thead>\n",
       "    <tr style=\"text-align: right;\">\n",
       "      <th></th>\n",
       "      <th>Date</th>\n",
       "      <th>Value</th>\n",
       "    </tr>\n",
       "  </thead>\n",
       "  <tbody>\n",
       "    <tr>\n",
       "      <th>1630</th>\n",
       "      <td>2020-08-27</td>\n",
       "      <td>2.92</td>\n",
       "    </tr>\n",
       "    <tr>\n",
       "      <th>1631</th>\n",
       "      <td>2020-08-28</td>\n",
       "      <td>2.93</td>\n",
       "    </tr>\n",
       "    <tr>\n",
       "      <th>1632</th>\n",
       "      <td>2020-08-29</td>\n",
       "      <td>2.93</td>\n",
       "    </tr>\n",
       "    <tr>\n",
       "      <th>1633</th>\n",
       "      <td>2020-08-30</td>\n",
       "      <td>2.93</td>\n",
       "    </tr>\n",
       "    <tr>\n",
       "      <th>1634</th>\n",
       "      <td>2020-08-31</td>\n",
       "      <td>2.92</td>\n",
       "    </tr>\n",
       "  </tbody>\n",
       "</table>\n",
       "</div>"
      ],
      "text/plain": [
       "           Date  Value\n",
       "1630 2020-08-27   2.92\n",
       "1631 2020-08-28   2.93\n",
       "1632 2020-08-29   2.93\n",
       "1633 2020-08-30   2.93\n",
       "1634 2020-08-31   2.92"
      ]
     },
     "execution_count": 21,
     "metadata": {},
     "output_type": "execute_result"
    }
   ],
   "source": [
    "home_mortgage_avg_rate_7 = home_mortgage_avg_rate_7.reset_index()\n",
    "home_mortgage_avg_rate_7.tail()"
   ]
  },
  {
   "cell_type": "code",
   "execution_count": 22,
   "metadata": {},
   "outputs": [
    {
     "data": {
      "text/html": [
       "<div>\n",
       "<style scoped>\n",
       "    .dataframe tbody tr th:only-of-type {\n",
       "        vertical-align: middle;\n",
       "    }\n",
       "\n",
       "    .dataframe tbody tr th {\n",
       "        vertical-align: top;\n",
       "    }\n",
       "\n",
       "    .dataframe thead th {\n",
       "        text-align: right;\n",
       "    }\n",
       "</style>\n",
       "<table border=\"1\" class=\"dataframe\">\n",
       "  <thead>\n",
       "    <tr style=\"text-align: right;\">\n",
       "      <th></th>\n",
       "      <th>Date</th>\n",
       "      <th>Value</th>\n",
       "    </tr>\n",
       "  </thead>\n",
       "  <tbody>\n",
       "    <tr>\n",
       "      <th>1630</th>\n",
       "      <td>2020-08-27</td>\n",
       "      <td>2.92</td>\n",
       "    </tr>\n",
       "    <tr>\n",
       "      <th>1631</th>\n",
       "      <td>2020-08-28</td>\n",
       "      <td>2.93</td>\n",
       "    </tr>\n",
       "    <tr>\n",
       "      <th>1632</th>\n",
       "      <td>2020-08-29</td>\n",
       "      <td>2.93</td>\n",
       "    </tr>\n",
       "    <tr>\n",
       "      <th>1633</th>\n",
       "      <td>2020-08-30</td>\n",
       "      <td>2.93</td>\n",
       "    </tr>\n",
       "    <tr>\n",
       "      <th>1634</th>\n",
       "      <td>2020-08-31</td>\n",
       "      <td>2.92</td>\n",
       "    </tr>\n",
       "  </tbody>\n",
       "</table>\n",
       "</div>"
      ],
      "text/plain": [
       "           Date  Value\n",
       "1630 2020-08-27   2.92\n",
       "1631 2020-08-28   2.93\n",
       "1632 2020-08-29   2.93\n",
       "1633 2020-08-30   2.93\n",
       "1634 2020-08-31   2.92"
      ]
     },
     "execution_count": 22,
     "metadata": {},
     "output_type": "execute_result"
    }
   ],
   "source": [
    "home_mortgage_avg_rate_7_filter = home_mortgage_avg_rate_7.loc[(home_mortgage_avg_rate_7['Date'] >= '2016-01-01') ]\n",
    "                     \n",
    "home_mortgage_avg_rate_7_filter.tail()"
   ]
  },
  {
   "cell_type": "code",
   "execution_count": 23,
   "metadata": {},
   "outputs": [
    {
     "data": {
      "text/html": [
       "<div>\n",
       "<style scoped>\n",
       "    .dataframe tbody tr th:only-of-type {\n",
       "        vertical-align: middle;\n",
       "    }\n",
       "\n",
       "    .dataframe tbody tr th {\n",
       "        vertical-align: top;\n",
       "    }\n",
       "\n",
       "    .dataframe thead th {\n",
       "        text-align: right;\n",
       "    }\n",
       "</style>\n",
       "<table border=\"1\" class=\"dataframe\">\n",
       "  <thead>\n",
       "    <tr style=\"text-align: right;\">\n",
       "      <th></th>\n",
       "      <th>Value</th>\n",
       "    </tr>\n",
       "    <tr>\n",
       "      <th>Date</th>\n",
       "      <th></th>\n",
       "    </tr>\n",
       "  </thead>\n",
       "  <tbody>\n",
       "    <tr>\n",
       "      <th>2020-08-27</th>\n",
       "      <td>2.92</td>\n",
       "    </tr>\n",
       "    <tr>\n",
       "      <th>2020-08-28</th>\n",
       "      <td>2.93</td>\n",
       "    </tr>\n",
       "    <tr>\n",
       "      <th>2020-08-29</th>\n",
       "      <td>2.93</td>\n",
       "    </tr>\n",
       "    <tr>\n",
       "      <th>2020-08-30</th>\n",
       "      <td>2.93</td>\n",
       "    </tr>\n",
       "    <tr>\n",
       "      <th>2020-08-31</th>\n",
       "      <td>2.92</td>\n",
       "    </tr>\n",
       "  </tbody>\n",
       "</table>\n",
       "</div>"
      ],
      "text/plain": [
       "            Value\n",
       "Date             \n",
       "2020-08-27   2.92\n",
       "2020-08-28   2.93\n",
       "2020-08-29   2.93\n",
       "2020-08-30   2.93\n",
       "2020-08-31   2.92"
      ]
     },
     "execution_count": 23,
     "metadata": {},
     "output_type": "execute_result"
    }
   ],
   "source": [
    "home_mortgage_avg_rate_7_filter = home_mortgage_avg_rate_7_filter.set_index('Date')\n",
    "home_mortgage_avg_rate_7_filter.tail()"
   ]
  },
  {
   "cell_type": "code",
   "execution_count": 24,
   "metadata": {},
   "outputs": [
    {
     "data": {
      "text/html": [
       "<div>\n",
       "<style scoped>\n",
       "    .dataframe tbody tr th:only-of-type {\n",
       "        vertical-align: middle;\n",
       "    }\n",
       "\n",
       "    .dataframe tbody tr th {\n",
       "        vertical-align: top;\n",
       "    }\n",
       "\n",
       "    .dataframe thead th {\n",
       "        text-align: right;\n",
       "    }\n",
       "</style>\n",
       "<table border=\"1\" class=\"dataframe\">\n",
       "  <thead>\n",
       "    <tr style=\"text-align: right;\">\n",
       "      <th></th>\n",
       "      <th>Date</th>\n",
       "      <th>MPRIME</th>\n",
       "    </tr>\n",
       "  </thead>\n",
       "  <tbody>\n",
       "    <tr>\n",
       "      <th>860</th>\n",
       "      <td>2020-09-01</td>\n",
       "      <td>3.25</td>\n",
       "    </tr>\n",
       "    <tr>\n",
       "      <th>861</th>\n",
       "      <td>2020-10-01</td>\n",
       "      <td>3.25</td>\n",
       "    </tr>\n",
       "    <tr>\n",
       "      <th>862</th>\n",
       "      <td>2020-11-01</td>\n",
       "      <td>3.25</td>\n",
       "    </tr>\n",
       "    <tr>\n",
       "      <th>863</th>\n",
       "      <td>2020-12-01</td>\n",
       "      <td>3.25</td>\n",
       "    </tr>\n",
       "    <tr>\n",
       "      <th>864</th>\n",
       "      <td>2021-01-01</td>\n",
       "      <td>3.25</td>\n",
       "    </tr>\n",
       "  </tbody>\n",
       "</table>\n",
       "</div>"
      ],
      "text/plain": [
       "          Date  MPRIME\n",
       "860 2020-09-01    3.25\n",
       "861 2020-10-01    3.25\n",
       "862 2020-11-01    3.25\n",
       "863 2020-12-01    3.25\n",
       "864 2021-01-01    3.25"
      ]
     },
     "execution_count": 24,
     "metadata": {},
     "output_type": "execute_result"
    }
   ],
   "source": [
    "# Filter data for 5 years\n",
    "filtered_prime_rate_5yrs = prime_rate.loc[(prime_rate['Date'] >= '2016-01-01') ]\n",
    "                     \n",
    "filtered_prime_rate_5yrs.tail()"
   ]
  },
  {
   "cell_type": "code",
   "execution_count": 25,
   "metadata": {},
   "outputs": [
    {
     "data": {
      "text/html": [
       "<div>\n",
       "<style scoped>\n",
       "    .dataframe tbody tr th:only-of-type {\n",
       "        vertical-align: middle;\n",
       "    }\n",
       "\n",
       "    .dataframe tbody tr th {\n",
       "        vertical-align: top;\n",
       "    }\n",
       "\n",
       "    .dataframe thead th {\n",
       "        text-align: right;\n",
       "    }\n",
       "</style>\n",
       "<table border=\"1\" class=\"dataframe\">\n",
       "  <thead>\n",
       "    <tr style=\"text-align: right;\">\n",
       "      <th></th>\n",
       "      <th>MPRIME</th>\n",
       "    </tr>\n",
       "    <tr>\n",
       "      <th>Date</th>\n",
       "      <th></th>\n",
       "    </tr>\n",
       "  </thead>\n",
       "  <tbody>\n",
       "    <tr>\n",
       "      <th>2020-09-01</th>\n",
       "      <td>3.25</td>\n",
       "    </tr>\n",
       "    <tr>\n",
       "      <th>2020-10-01</th>\n",
       "      <td>3.25</td>\n",
       "    </tr>\n",
       "    <tr>\n",
       "      <th>2020-11-01</th>\n",
       "      <td>3.25</td>\n",
       "    </tr>\n",
       "    <tr>\n",
       "      <th>2020-12-01</th>\n",
       "      <td>3.25</td>\n",
       "    </tr>\n",
       "    <tr>\n",
       "      <th>2021-01-01</th>\n",
       "      <td>3.25</td>\n",
       "    </tr>\n",
       "  </tbody>\n",
       "</table>\n",
       "</div>"
      ],
      "text/plain": [
       "            MPRIME\n",
       "Date              \n",
       "2020-09-01    3.25\n",
       "2020-10-01    3.25\n",
       "2020-11-01    3.25\n",
       "2020-12-01    3.25\n",
       "2021-01-01    3.25"
      ]
     },
     "execution_count": 25,
     "metadata": {},
     "output_type": "execute_result"
    }
   ],
   "source": [
    "filtered_prime_rate_5yrs_df =filtered_prime_rate_5yrs.set_index('Date')\n",
    "filtered_prime_rate_5yrs_df.tail()"
   ]
  },
  {
   "cell_type": "code",
   "execution_count": 26,
   "metadata": {},
   "outputs": [],
   "source": [
    "# home_mortgage_avg_rate_5_filter_5yrs = home_mortgage_avg_rate_5.loc[(home_mortgage_avg_rate_5['Date'] >= '2016-01-01') ]\n",
    "# home_mortgage_avg_rate_5_filter_5yrs.tail()"
   ]
  },
  {
   "cell_type": "markdown",
   "metadata": {},
   "source": [
    "# Home Mortgage Loans: Conforming Loan, 7/1 ARM, APR"
   ]
  },
  {
   "cell_type": "code",
   "execution_count": 27,
   "metadata": {},
   "outputs": [
    {
     "data": {
      "image/png": "[encoded data removed]",
      "text/plain": [
       "<Figure size 1152x576 with 1 Axes>"
      ]
     },
     "metadata": {
      "needs_background": "light"
     },
     "output_type": "display_data"
    }
   ],
   "source": [
    "# plot based on prime rate 7 years and 5 years\n",
    "fig,ax = plt.subplots()\n",
    "\n",
    "\n",
    "home_mortgage_avg_rate_7_filter['Value'].plot (label = '7 year avg rate', figsize = (16,8))\n",
    "home_mortgage_avg_rate_5_filter['Value'].plot (label = '5 year avg rate')\n",
    "\n",
    "\n",
    "# home_mortgage_refinance_rate_filter['Value'].plot (label = 'refinance rate')\n",
    "filtered_prime_rate_5yrs_df['MPRIME'].plot( label = 'prime rate',color=\"red\")\n",
    "\n",
    "ax.set_ylabel(\"% rate\",fontsize=14)\n",
    "ax.set_title(\"prime rate / mortgage rate\")\n",
    "\n",
    "plt.legend();"
   ]
  },
  {
   "cell_type": "code",
   "execution_count": 28,
   "metadata": {},
   "outputs": [],
   "source": [
    "# merged_long_term = pd.merge(filtered_prime_rate_df, home_mortgage_avg_rate_30_filter,  how = \"inner\", on =\"Date\")\n",
    "# merged_long_term.tail()"
   ]
  },
  {
   "cell_type": "code",
   "execution_count": 29,
   "metadata": {},
   "outputs": [],
   "source": [
    "# merged_long_term_df = pd.merge(merged_long_term, home_mortgage_avg_rate_15_filter,  how = \"inner\", on =\"Date\")\n",
    "# len(merged_long_term_df)"
   ]
  },
  {
   "cell_type": "code",
   "execution_count": 30,
   "metadata": {},
   "outputs": [],
   "source": [
    "# #rename columns\n",
    "# merged_long_term_df.rename(columns = {'Value_x':'Value_30years','Value_y':'Value_15years'}, inplace = True) \n"
   ]
  },
  {
   "cell_type": "code",
   "execution_count": 31,
   "metadata": {},
   "outputs": [],
   "source": [
    "# # plot based on opening prices\n",
    "# fig,ax = plt.subplots()\n",
    "\n",
    "# merged_long_term_df['Value_30years'].plot (label = '30 year avg rate ', figsize = (14,7))\n",
    "# merged_long_term_df['Value_15years'].plot (label = '15 year avg rate')\n",
    "# #home_mortgage_avg_rate_5_filter['Value'].plot (label = '5 year avg rate')\n",
    "\n",
    "\n",
    "# # home_mortgage_refinance_rate_filter['Value'].plot (label = 'refinance rate')\n",
    "# merged_long_term_df['MPRIME'].plot( label = 'prime rate')\n",
    "\n",
    "# ax.set_ylabel(\"% rate\",fontsize=14)\n",
    "# ax.set_title(\"prime rate / mortgage rate\")\n",
    "\n",
    "\n",
    "# plt.legend();"
   ]
  },
  {
   "cell_type": "code",
   "execution_count": 32,
   "metadata": {},
   "outputs": [],
   "source": [
    "# merged_short_term = pd.merge(filtered_prime_rate_5yrs_df, home_mortgage_avg_rate_7_filter,  how = \"inner\", on =\"Date\")\n",
    "# merged_short_term.tail()"
   ]
  },
  {
   "cell_type": "code",
   "execution_count": 33,
   "metadata": {},
   "outputs": [],
   "source": [
    "# merged_short_term_df = pd.merge(merged_short_term, home_mortgage_avg_rate_5_filter,  how = \"inner\", on =\"Date\")\n",
    "# merged_short_term_df"
   ]
  },
  {
   "cell_type": "code",
   "execution_count": 34,
   "metadata": {},
   "outputs": [],
   "source": [
    "#rename columns\n",
    "# merged_short_term_df.rename(columns = {'Value_x':'Value_7years','Value_y':'Value_5years'}, inplace = True) \n",
    "# merged_short_term_df"
   ]
  },
  {
   "cell_type": "code",
   "execution_count": 35,
   "metadata": {},
   "outputs": [],
   "source": [
    "# # plot based on opening prices\n",
    "# fig,ax = plt.subplots()\n",
    "\n",
    "# merged_short_term_df['Value_7years'].plot (label = '7 year avg rate ', figsize = (14,7))\n",
    "# merged_short_term_df['Value_5years'].plot (label = '5 year avg rate')\n",
    "# #home_mortgage_avg_rate_5_filter['Value'].plot (label = '5 year avg rate')\n",
    "\n",
    "\n",
    "# # home_mortgage_refinance_rate_filter['Value'].plot (label = 'refinance rate')\n",
    "# filtered_prime_rate_5yrs_df['MPRIME'].plot( label = 'prime rate')\n",
    "\n",
    "# ax.set_ylabel(\"% rate\",fontsize=14)\n",
    "# ax.set_title(\"prime rate / mortgage rate\")\n",
    "\n",
    "\n",
    "# plt.legend();"
   ]
  },
  {
   "cell_type": "code",
   "execution_count": 36,
   "metadata": {},
   "outputs": [
    {
     "data": {
      "text/html": [
       "<div>\n",
       "<style scoped>\n",
       "    .dataframe tbody tr th:only-of-type {\n",
       "        vertical-align: middle;\n",
       "    }\n",
       "\n",
       "    .dataframe tbody tr th {\n",
       "        vertical-align: top;\n",
       "    }\n",
       "\n",
       "    .dataframe thead th {\n",
       "        text-align: right;\n",
       "    }\n",
       "</style>\n",
       "<table border=\"1\" class=\"dataframe\">\n",
       "  <thead>\n",
       "    <tr style=\"text-align: right;\">\n",
       "      <th></th>\n",
       "      <th>Value</th>\n",
       "    </tr>\n",
       "    <tr>\n",
       "      <th>Date</th>\n",
       "      <th></th>\n",
       "    </tr>\n",
       "  </thead>\n",
       "  <tbody>\n",
       "    <tr>\n",
       "      <th>2016-01-07</th>\n",
       "      <td>3.09</td>\n",
       "    </tr>\n",
       "    <tr>\n",
       "      <th>2016-01-14</th>\n",
       "      <td>3.01</td>\n",
       "    </tr>\n",
       "    <tr>\n",
       "      <th>2016-01-21</th>\n",
       "      <td>2.91</td>\n",
       "    </tr>\n",
       "    <tr>\n",
       "      <th>2016-01-28</th>\n",
       "      <td>2.90</td>\n",
       "    </tr>\n",
       "    <tr>\n",
       "      <th>2016-02-04</th>\n",
       "      <td>2.85</td>\n",
       "    </tr>\n",
       "    <tr>\n",
       "      <th>...</th>\n",
       "      <td>...</td>\n",
       "    </tr>\n",
       "    <tr>\n",
       "      <th>2021-02-11</th>\n",
       "      <td>2.79</td>\n",
       "    </tr>\n",
       "    <tr>\n",
       "      <th>2021-02-18</th>\n",
       "      <td>2.77</td>\n",
       "    </tr>\n",
       "    <tr>\n",
       "      <th>2021-02-25</th>\n",
       "      <td>2.99</td>\n",
       "    </tr>\n",
       "    <tr>\n",
       "      <th>2021-03-04</th>\n",
       "      <td>2.73</td>\n",
       "    </tr>\n",
       "    <tr>\n",
       "      <th>2021-03-11</th>\n",
       "      <td>2.77</td>\n",
       "    </tr>\n",
       "  </tbody>\n",
       "</table>\n",
       "<p>272 rows × 1 columns</p>\n",
       "</div>"
      ],
      "text/plain": [
       "            Value\n",
       "Date             \n",
       "2016-01-07   3.09\n",
       "2016-01-14   3.01\n",
       "2016-01-21   2.91\n",
       "2016-01-28   2.90\n",
       "2016-02-04   2.85\n",
       "...           ...\n",
       "2021-02-11   2.79\n",
       "2021-02-18   2.77\n",
       "2021-02-25   2.99\n",
       "2021-03-04   2.73\n",
       "2021-03-11   2.77\n",
       "\n",
       "[272 rows x 1 columns]"
      ]
     },
     "execution_count": 36,
     "metadata": {},
     "output_type": "execute_result"
    }
   ],
   "source": [
    "#filtered_prime_rate_df\n",
    "#home_mortgage_avg_rate_30_filter\n",
    "#home_mortgage_avg_rate_15_filter\n",
    "\n",
    "filtered_prime_rate_5yrs_df\n",
    "home_mortgage_avg_rate_7_filter\n",
    "home_mortgage_avg_rate_5_filter\n"
   ]
  },
  {
   "cell_type": "code",
   "execution_count": 37,
   "metadata": {},
   "outputs": [],
   "source": [
    "# deploy to Aws\n",
    "from config import remote_db_endpoint, remote_db_port\n",
    "from config import remote_db_name, remote_db_user, remote_db_pwd\n",
    "import mysql.connector"
   ]
  },
  {
   "cell_type": "code",
   "execution_count": 38,
   "metadata": {},
   "outputs": [],
   "source": [
    "engine = create_engine(f\"mysql://{remote_db_user}:{remote_db_pwd}@{remote_db_endpoint}:{remote_db_port}/{remote_db_name}\")\n",
    "conn = engine.connect()"
   ]
  },
  {
   "cell_type": "code",
   "execution_count": 39,
   "metadata": {},
   "outputs": [],
   "source": [
    "# home_mortgage_avg_rate_30_filter.to_sql(name='mortgage30y_rates', con=engine, if_exists = 'replace', index=True)\n",
    "\n",
    "# home_mortgage_avg_rate_15_filter.to_sql(name='mortgage15y_rates', con=engine, if_exists = 'replace', index=True)\n",
    "\n",
    "# filtered_prime_rate_5yrs_df.to_sql(name='us_5yprime_rate', con=engine, if_exists = 'replace', index=True)\n",
    "\n",
    "# home_mortgage_avg_rate_7_filter.to_sql(name='mortgage7y_rates', con=engine, if_exists = 'replace', index=True)\n",
    "\n",
    "# home_mortgage_avg_rate_5_filter.to_sql(name='mortgage5y_rates', con=engine, if_exists = 'replace', index=True)\n",
    "# #us_prime_rate"
   ]
  },
  {
   "cell_type": "code",
   "execution_count": null,
   "metadata": {},
   "outputs": [],
   "source": []
  },
  {
   "cell_type": "code",
   "execution_count": 44,
   "metadata": {},
   "outputs": [
    {
     "data": {
      "text/plain": [
       "'[{\"Date\":1452124800000,\"Value\":3.09},{\"Date\":1452729600000,\"Value\":3.01},{\"Date\":1453334400000,\"Value\":2.91},{\"Date\":1453939200000,\"Value\":2.9},{\"Date\":1454544000000,\"Value\":2.85},{\"Date\":1455148800000,\"Value\":2.83},{\"Date\":1455753600000,\"Value\":2.85},{\"Date\":1456358400000,\"Value\":2.79},{\"Date\":1456963200000,\"Value\":2.84},{\"Date\":1457568000000,\"Value\":2.92},{\"Date\":1458172800000,\"Value\":2.93},{\"Date\":1458777600000,\"Value\":2.89},{\"Date\":1459382400000,\"Value\":2.9},{\"Date\":1459987200000,\"Value\":2.82},{\"Date\":1460592000000,\"Value\":2.84},{\"Date\":1461196800000,\"Value\":2.81},{\"Date\":1461801600000,\"Value\":2.86},{\"Date\":1462406400000,\"Value\":2.8},{\"Date\":1463011200000,\"Value\":2.78},{\"Date\":1463616000000,\"Value\":2.8},{\"Date\":1464220800000,\"Value\":2.87},{\"Date\":1464825600000,\"Value\":2.88},{\"Date\":1465430400000,\"Value\":2.82},{\"Date\":1466035200000,\"Value\":2.74},{\"Date\":1466640000000,\"Value\":2.74},{\"Date\":1467244800000,\"Value\":2.7},{\"Date\":1467849600000,\"Value\":2.68},{\"Date\":1468454400000,\"Value\":2.76},{\"Date\":1469059200000,\"Value\":2.78},{\"Date\":1469664000000,\"Value\":2.78},{\"Date\":1470268800000,\"Value\":2.73},{\"Date\":1470873600000,\"Value\":2.74},{\"Date\":1471478400000,\"Value\":2.76},{\"Date\":1471996800000,\"Value\":2.75},{\"Date\":1472083200000,\"Value\":2.75},{\"Date\":1472688000000,\"Value\":2.83},{\"Date\":1473292800000,\"Value\":2.81},{\"Date\":1473897600000,\"Value\":2.82},{\"Date\":1474502400000,\"Value\":2.8},{\"Date\":1475107200000,\"Value\":2.81},{\"Date\":1475712000000,\"Value\":2.8},{\"Date\":1476316800000,\"Value\":2.82},{\"Date\":1476921600000,\"Value\":2.85},{\"Date\":1477526400000,\"Value\":2.84},{\"Date\":1478131200000,\"Value\":2.87},{\"Date\":1478736000000,\"Value\":2.88},{\"Date\":1479340800000,\"Value\":3.07},{\"Date\":1479859200000,\"Value\":3.12},{\"Date\":1480550400000,\"Value\":3.15},{\"Date\":1481155200000,\"Value\":3.17},{\"Date\":1481760000000,\"Value\":3.19},{\"Date\":1482364800000,\"Value\":3.32},{\"Date\":1482969600000,\"Value\":3.3},{\"Date\":1483574400000,\"Value\":3.33},{\"Date\":1484179200000,\"Value\":3.23},{\"Date\":1484784000000,\"Value\":3.21},{\"Date\":1485388800000,\"Value\":3.2},{\"Date\":1485993600000,\"Value\":3.23},{\"Date\":1486598400000,\"Value\":3.21},{\"Date\":1487203200000,\"Value\":3.18},{\"Date\":1487808000000,\"Value\":3.16},{\"Date\":1488412800000,\"Value\":3.14},{\"Date\":1489017600000,\"Value\":3.23},{\"Date\":1489622400000,\"Value\":3.28},{\"Date\":1490227200000,\"Value\":3.24},{\"Date\":1490832000000,\"Value\":3.18},{\"Date\":1491436800000,\"Value\":3.19},{\"Date\":1492041600000,\"Value\":3.18},{\"Date\":1492646400000,\"Value\":3.1},{\"Date\":1493251200000,\"Value\":3.12},{\"Date\":1493856000000,\"Value\":3.13},{\"Date\":1494460800000,\"Value\":3.14},{\"Date\":1495065600000,\"Value\":3.13},{\"Date\":1495670400000,\"Value\":3.07},{\"Date\":1496275200000,\"Value\":3.11},{\"Date\":1496880000000,\"Value\":3.11},{\"Date\":1497484800000,\"Value\":3.15},{\"Date\":1498089600000,\"Value\":3.14},{\"Date\":1498694400000,\"Value\":3.17},{\"Date\":1499299200000,\"Value\":3.21},{\"Date\":1499904000000,\"Value\":3.28},{\"Date\":1500508800000,\"Value\":3.21},{\"Date\":1501113600000,\"Value\":3.18},{\"Date\":1501718400000,\"Value\":3.15},{\"Date\":1502323200000,\"Value\":3.14},{\"Date\":1502928000000,\"Value\":3.16},{\"Date\":1503532800000,\"Value\":3.17},{\"Date\":1504137600000,\"Value\":3.14},{\"Date\":1504742400000,\"Value\":3.15},{\"Date\":1505347200000,\"Value\":3.13},{\"Date\":1505952000000,\"Value\":3.17},{\"Date\":1506556800000,\"Value\":3.2},{\"Date\":1507161600000,\"Value\":3.18},{\"Date\":1507766400000,\"Value\":3.16},{\"Date\":1508371200000,\"Value\":3.17},{\"Date\":1508976000000,\"Value\":3.21},{\"Date\":1509580800000,\"Value\":3.23},{\"Date\":1510185600000,\"Value\":3.22},{\"Date\":1510790400000,\"Value\":3.21},{\"Date\":1511308800000,\"Value\":3.22},{\"Date\":1512000000000,\"Value\":3.32},{\"Date\":1512604800000,\"Value\":3.35},{\"Date\":1513209600000,\"Value\":3.36},{\"Date\":1513814400000,\"Value\":3.39},{\"Date\":1514419200000,\"Value\":3.47},{\"Date\":1515024000000,\"Value\":3.45},{\"Date\":1515628800000,\"Value\":3.46},{\"Date\":1516233600000,\"Value\":3.46},{\"Date\":1516838400000,\"Value\":3.52},{\"Date\":1517443200000,\"Value\":3.53},{\"Date\":1518048000000,\"Value\":3.57},{\"Date\":1518652800000,\"Value\":3.63},{\"Date\":1519257600000,\"Value\":3.65},{\"Date\":1519862400000,\"Value\":3.62},{\"Date\":1520467200000,\"Value\":3.63},{\"Date\":1521072000000,\"Value\":3.67},{\"Date\":1521676800000,\"Value\":3.68},{\"Date\":1522281600000,\"Value\":3.66},{\"Date\":1522886400000,\"Value\":3.62},{\"Date\":1523491200000,\"Value\":3.61},{\"Date\":1524096000000,\"Value\":3.67},{\"Date\":1524700800000,\"Value\":3.74},{\"Date\":1525305600000,\"Value\":3.69},{\"Date\":1525910400000,\"Value\":3.77},{\"Date\":1526515200000,\"Value\":3.82},{\"Date\":1527120000000,\"Value\":3.87},{\"Date\":1527724800000,\"Value\":3.8},{\"Date\":1528329600000,\"Value\":3.74},{\"Date\":1528934400000,\"Value\":3.83},{\"Date\":1529539200000,\"Value\":3.83},{\"Date\":1530144000000,\"Value\":3.87},{\"Date\":1530748800000,\"Value\":3.74},{\"Date\":1531353600000,\"Value\":3.86},{\"Date\":1531958400000,\"Value\":3.87},{\"Date\":1532563200000,\"Value\":3.87},{\"Date\":1533168000000,\"Value\":3.93},{\"Date\":1533772800000,\"Value\":3.9},{\"Date\":1534377600000,\"Value\":3.87},{\"Date\":1534982400000,\"Value\":3.82},{\"Date\":1535587200000,\"Value\":3.85},{\"Date\":1536192000000,\"Value\":3.93},{\"Date\":1536796800000,\"Value\":3.93},{\"Date\":1537401600000,\"Value\":3.92},{\"Date\":1538006400000,\"Value\":3.97},{\"Date\":1538611200000,\"Value\":4.01},{\"Date\":1539216000000,\"Value\":4.07},{\"Date\":1539820800000,\"Value\":4.1},{\"Date\":1540425600000,\"Value\":4.14},{\"Date\":1541030400000,\"Value\":4.04},{\"Date\":1541635200000,\"Value\":4.14},{\"Date\":1542240000000,\"Value\":4.14},{\"Date\":1542758400000,\"Value\":4.09},{\"Date\":1543449600000,\"Value\":4.12},{\"Date\":1544054400000,\"Value\":4.07},{\"Date\":1544659200000,\"Value\":4.04},{\"Date\":1545264000000,\"Value\":3.98},{\"Date\":1545868800000,\"Value\":4.0},{\"Date\":1546473600000,\"Value\":3.98},{\"Date\":1547078400000,\"Value\":3.83},{\"Date\":1547683200000,\"Value\":3.87},{\"Date\":1548288000000,\"Value\":3.9},{\"Date\":1548892800000,\"Value\":3.96},{\"Date\":1549497600000,\"Value\":3.91},{\"Date\":1550102400000,\"Value\":3.88},{\"Date\":1550707200000,\"Value\":3.84},{\"Date\":1551312000000,\"Value\":3.84},{\"Date\":1551916800000,\"Value\":3.87},{\"Date\":1552521600000,\"Value\":3.84},{\"Date\":1553126400000,\"Value\":3.84},{\"Date\":1553731200000,\"Value\":3.75},{\"Date\":1554336000000,\"Value\":3.66},{\"Date\":1554940800000,\"Value\":3.8},{\"Date\":1555545600000,\"Value\":3.78},{\"Date\":1556150400000,\"Value\":3.77},{\"Date\":1556755200000,\"Value\":3.68},{\"Date\":1557360000000,\"Value\":3.63},{\"Date\":1557964800000,\"Value\":3.66},{\"Date\":1558569600000,\"Value\":3.68},{\"Date\":1559174400000,\"Value\":3.6},{\"Date\":1559779200000,\"Value\":3.52},{\"Date\":1560384000000,\"Value\":3.51},{\"Date\":1560988800000,\"Value\":3.48},{\"Date\":1561593600000,\"Value\":3.39},{\"Date\":1562112000000,\"Value\":3.45},{\"Date\":1562803200000,\"Value\":3.46},{\"Date\":1563408000000,\"Value\":3.48},{\"Date\":1564012800000,\"Value\":3.47},{\"Date\":1564617600000,\"Value\":3.46},{\"Date\":1565222400000,\"Value\":3.36},{\"Date\":1565827200000,\"Value\":3.35},{\"Date\":1566432000000,\"Value\":3.32},{\"Date\":1567036800000,\"Value\":3.31},{\"Date\":1567641600000,\"Value\":3.3},{\"Date\":1568246400000,\"Value\":3.36},{\"Date\":1568851200000,\"Value\":3.49},{\"Date\":1569456000000,\"Value\":3.38},{\"Date\":1570060800000,\"Value\":3.38},{\"Date\":1570665600000,\"Value\":3.35},{\"Date\":1571270400000,\"Value\":3.35},{\"Date\":1571875200000,\"Value\":3.4},{\"Date\":1572480000000,\"Value\":3.43},{\"Date\":1573084800000,\"Value\":3.39},{\"Date\":1573689600000,\"Value\":3.44},{\"Date\":1574294400000,\"Value\":3.39},{\"Date\":1574812800000,\"Value\":3.43},{\"Date\":1575504000000,\"Value\":3.39},{\"Date\":1576108800000,\"Value\":3.36},{\"Date\":1576713600000,\"Value\":3.37},{\"Date\":1577318400000,\"Value\":3.45},{\"Date\":1577923200000,\"Value\":3.46},{\"Date\":1578528000000,\"Value\":3.3},{\"Date\":1579132800000,\"Value\":3.39},{\"Date\":1579737600000,\"Value\":3.28},{\"Date\":1580342400000,\"Value\":3.24},{\"Date\":1580947200000,\"Value\":3.32},{\"Date\":1581552000000,\"Value\":3.28},{\"Date\":1582156800000,\"Value\":3.25},{\"Date\":1582761600000,\"Value\":3.2},{\"Date\":1583366400000,\"Value\":3.18},{\"Date\":1583971200000,\"Value\":3.01},{\"Date\":1584576000000,\"Value\":3.11},{\"Date\":1585180800000,\"Value\":3.34},{\"Date\":1585785600000,\"Value\":3.4},{\"Date\":1586390400000,\"Value\":3.4},{\"Date\":1586995200000,\"Value\":3.34},{\"Date\":1587600000000,\"Value\":3.28},{\"Date\":1588204800000,\"Value\":3.14},{\"Date\":1588809600000,\"Value\":3.17},{\"Date\":1589414400000,\"Value\":3.18},{\"Date\":1590019200000,\"Value\":3.17},{\"Date\":1590624000000,\"Value\":3.13},{\"Date\":1591228800000,\"Value\":3.1},{\"Date\":1591833600000,\"Value\":3.1},{\"Date\":1592438400000,\"Value\":3.09},{\"Date\":1593043200000,\"Value\":3.08},{\"Date\":1593648000000,\"Value\":3.0},{\"Date\":1594252800000,\"Value\":3.02},{\"Date\":1594857600000,\"Value\":3.06},{\"Date\":1595462400000,\"Value\":3.09},{\"Date\":1596067200000,\"Value\":2.94},{\"Date\":1596672000000,\"Value\":2.9},{\"Date\":1597276800000,\"Value\":2.9},{\"Date\":1597881600000,\"Value\":2.91},{\"Date\":1598486400000,\"Value\":2.91},{\"Date\":1599091200000,\"Value\":2.93},{\"Date\":1599696000000,\"Value\":3.11},{\"Date\":1600300800000,\"Value\":2.96},{\"Date\":1600905600000,\"Value\":2.9},{\"Date\":1601510400000,\"Value\":2.9},{\"Date\":1602115200000,\"Value\":2.89},{\"Date\":1602720000000,\"Value\":2.9},{\"Date\":1603324800000,\"Value\":2.87},{\"Date\":1603929600000,\"Value\":2.88},{\"Date\":1604534400000,\"Value\":2.89},{\"Date\":1605139200000,\"Value\":3.11},{\"Date\":1605744000000,\"Value\":2.85},{\"Date\":1606262400000,\"Value\":3.16},{\"Date\":1606953600000,\"Value\":2.86},{\"Date\":1607558400000,\"Value\":2.79},{\"Date\":1608163200000,\"Value\":2.79},{\"Date\":1608768000000,\"Value\":2.79},{\"Date\":1609372800000,\"Value\":2.71},{\"Date\":1609977600000,\"Value\":2.75},{\"Date\":1610582400000,\"Value\":3.12},{\"Date\":1611187200000,\"Value\":2.8},{\"Date\":1611792000000,\"Value\":2.8},{\"Date\":1612396800000,\"Value\":2.78},{\"Date\":1613001600000,\"Value\":2.79},{\"Date\":1613606400000,\"Value\":2.77},{\"Date\":1614211200000,\"Value\":2.99},{\"Date\":1614816000000,\"Value\":2.73},{\"Date\":1615420800000,\"Value\":2.77}]'"
      ]
     },
     "execution_count": 44,
     "metadata": {},
     "output_type": "execute_result"
    }
   ],
   "source": [
    "query = pd.read_sql(\"select * from mortgage5y_rates\",conn)\n",
    "data_5yrs =query.to_json(orient =\"records\")\n",
    "data_5yrs\n"
   ]
  },
  {
   "cell_type": "code",
   "execution_count": null,
   "metadata": {},
   "outputs": [],
   "source": []
  }
 ],
 "metadata": {
  "kernelspec": {
   "display_name": "Python 3",
   "language": "python",
   "name": "python3"
  },
  "language_info": {
   "codemirror_mode": {
    "name": "ipython",
    "version": 3
   },
   "file_extension": ".py",
   "mimetype": "text/x-python",
   "name": "python",
   "nbconvert_exporter": "python",
   "pygments_lexer": "ipython3",
   "version": "3.8.3"
  }
 },
 "nbformat": 4,
 "nbformat_minor": 4
}
